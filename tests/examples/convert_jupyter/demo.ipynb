{
 "cells": [
  {
   "cell_type": "markdown",
   "metadata": {},
   "source": [
    "# Demo notebook"
   ]
  },
  {
   "cell_type": "markdown",
   "metadata": {},
   "source": [
    "This is just a simple example notebook.\n",
    "\n",
    "Let's start by importing some libraries."
   ]
  },
  {
   "cell_type": "code",
   "execution_count": null,
   "metadata": {},
   "outputs": [],
   "source": [
    "import json\n",
    "\n",
    "import matplotlib.pyplot as plt\n",
    "import numpy as np\n",
    "\n",
    "from stepup.core.api import amend"
   ]
  },
  {
   "cell_type": "markdown",
   "metadata": {},
   "source": [
    "By default, StepUp RepRep will execute cells."
   ]
  },
  {
   "cell_type": "code",
   "execution_count": null,
   "metadata": {},
   "outputs": [],
   "source": [
    "print(f\"Hello world! 1 + 1 = {1 + 1}\")"
   ]
  },
  {
   "cell_type": "markdown",
   "metadata": {},
   "source": [
    "The `amend()` function of StepUp Core ca be used to define inputs and outputs of the notebook, integrate this notebook in the workflow."
   ]
  },
  {
   "cell_type": "code",
   "execution_count": null,
   "metadata": {},
   "outputs": [],
   "source": [
    "amend(inp=\"data.json\", out=\"result.txt\")\n",
    "with open(\"data.json\") as fh:\n",
    "    data = json.load(fh)\n",
    "with open(\"result.txt\", \"w\") as fh:\n",
    "    for key, value in data.items():\n",
    "        fh.write(f\"{key}: {value}\\n\")"
   ]
  },
  {
   "cell_type": "markdown",
   "metadata": {},
   "source": [
    "The following cell loads a file `points.txt` with two columns x and y, and plots the points.\n",
    "Because this data file was specified as an input in `plan.py`, there is no need to call `amend()` in this cell. Similarly, the output file `plot.png` is specified in `plan.py`."
   ]
  },
  {
   "cell_type": "code",
   "execution_count": null,
   "metadata": {},
   "outputs": [],
   "source": [
    "points = np.loadtxt(\"points.txt\")\n",
    "# By specifying num, we reuse the same figure.\n",
    "plt.close(\"points\")\n",
    "fig, ax = plt.subplots(num=\"points\")\n",
    "ax.plot(points[:, 0], points[:, 1], \"o\")\n",
    "ax.set_title(\"Points\")\n",
    "ax.set_xlabel(\"x\")\n",
    "ax.set_ylabel(\"y\")\n",
    "fig.savefig(\"plot.png\")"
   ]
  }
 ],
 "metadata": {
  "kernelspec": {
   "display_name": "venv",
   "language": "python",
   "name": "python3"
  },
  "language_info": {
   "codemirror_mode": {
    "name": "ipython",
    "version": 3
   },
   "file_extension": ".py",
   "mimetype": "text/x-python",
   "name": "python",
   "nbconvert_exporter": "python",
   "pygments_lexer": "ipython3"
  }
 },
 "nbformat": 4,
 "nbformat_minor": 2
}
